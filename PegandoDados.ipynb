{
 "cells": [
  {
   "cell_type": "code",
   "execution_count": 6,
   "metadata": {},
   "outputs": [],
   "source": [
    "import pandas as pd"
   ]
  },
  {
   "cell_type": "code",
   "execution_count": null,
   "metadata": {},
   "outputs": [
    {
     "name": "stderr",
     "output_type": "stream",
     "text": [
      "C:\\Users\\gabrielbrito\\AppData\\Local\\Temp\\ipykernel_65888\\514086573.py:26: FutureWarning: Passing literal html to 'read_html' is deprecated and will be removed in a future version. To read from a literal string, wrap it in a 'StringIO' object.\n",
      "  df = pd.read_html(str(tabela), header=None)[0]\n"
     ]
    },
    {
     "name": "stdout",
     "output_type": "stream",
     "text": [
      "         Data Preço - petróleo bruto - Brent (FOB)\n",
      "0  04/11/2024                                 7489\n",
      "1  01/11/2024                                 7363\n",
      "2  31/10/2024                                 7325\n",
      "3  30/10/2024                                 7321\n",
      "4  29/10/2024                                 7109\n"
     ]
    }
   ],
   "source": [
    "from selenium import webdriver\n",
    "from selenium.webdriver.common.by import By\n",
    "from bs4 import BeautifulSoup\n",
    "import pandas as pd\n",
    "\n",
    "# Configurando o WebDriver\n",
    "driver = webdriver.Chrome()  # Ou webdriver.Firefox() se usar Firefox\n",
    "\n",
    "# URL da página\n",
    "url = 'http://www.ipeadata.gov.br/ExibeSerie.aspx?module=m&serid=1650971490&oper=view'\n",
    "driver.get(url)\n",
    "\n",
    "# Localizando o elemento com o XPath fornecido\n",
    "element = driver.find_element(By.XPATH, '//*[@id=\"grd\"]')\n",
    "\n",
    "# Pegando o HTML do elemento\n",
    "html_content = element.get_attribute('outerHTML')\n",
    "\n",
    "# Usando BeautifulSoup para fazer o parsing do HTML do elemento\n",
    "soup = BeautifulSoup(html_content, 'html.parser')\n",
    "\n",
    "# Extraindo a tabela de dentro da div\n",
    "tabela = soup.find('table')\n",
    "\n",
    "# Convertendo a tabela para um DataFrame do Pandas, carregando sem cabeçalho\n",
    "df = pd.read_html(str(tabela), header=None)[0]\n",
    "\n",
    "# Localizando a primeira linha de dados reais (a primeira linha com uma data válida na coluna 'Data')\n",
    "for i in range(len(df)):\n",
    "    if pd.to_datetime(df.iloc[i, 0], errors='coerce') is not pd.NaT:\n",
    "        df = df.iloc[i:].reset_index(drop=True)  # Redefine o DataFrame a partir da primeira linha de dados reais\n",
    "        break\n",
    "\n",
    "# Renomeando as colunas corretamente\n",
    "df.columns = ['Data', 'Preço - petróleo bruto - Brent (FOB)']\n",
    "\n",
    "# Exibindo as primeiras linhas para verificar o resultado\n",
    "print(df.head())\n",
    "\n",
    "# Fechando o WebDriver\n",
    "driver.quit()\n",
    "\n"
   ]
  },
  {
   "cell_type": "code",
   "execution_count": 17,
   "metadata": {},
   "outputs": [
    {
     "data": {
      "text/html": [
       "<div>\n",
       "<style scoped>\n",
       "    .dataframe tbody tr th:only-of-type {\n",
       "        vertical-align: middle;\n",
       "    }\n",
       "\n",
       "    .dataframe tbody tr th {\n",
       "        vertical-align: top;\n",
       "    }\n",
       "\n",
       "    .dataframe thead th {\n",
       "        text-align: right;\n",
       "    }\n",
       "</style>\n",
       "<table border=\"1\" class=\"dataframe\">\n",
       "  <thead>\n",
       "    <tr style=\"text-align: right;\">\n",
       "      <th></th>\n",
       "      <th>Data</th>\n",
       "      <th>Preço - petróleo bruto - Brent (FOB)</th>\n",
       "    </tr>\n",
       "  </thead>\n",
       "  <tbody>\n",
       "    <tr>\n",
       "      <th>0</th>\n",
       "      <td>04/11/2024</td>\n",
       "      <td>7489</td>\n",
       "    </tr>\n",
       "    <tr>\n",
       "      <th>1</th>\n",
       "      <td>01/11/2024</td>\n",
       "      <td>7363</td>\n",
       "    </tr>\n",
       "    <tr>\n",
       "      <th>2</th>\n",
       "      <td>31/10/2024</td>\n",
       "      <td>7325</td>\n",
       "    </tr>\n",
       "    <tr>\n",
       "      <th>3</th>\n",
       "      <td>30/10/2024</td>\n",
       "      <td>7321</td>\n",
       "    </tr>\n",
       "    <tr>\n",
       "      <th>4</th>\n",
       "      <td>29/10/2024</td>\n",
       "      <td>7109</td>\n",
       "    </tr>\n",
       "  </tbody>\n",
       "</table>\n",
       "</div>"
      ],
      "text/plain": [
       "         Data Preço - petróleo bruto - Brent (FOB)\n",
       "0  04/11/2024                                 7489\n",
       "1  01/11/2024                                 7363\n",
       "2  31/10/2024                                 7325\n",
       "3  30/10/2024                                 7321\n",
       "4  29/10/2024                                 7109"
      ]
     },
     "execution_count": 17,
     "metadata": {},
     "output_type": "execute_result"
    }
   ],
   "source": [
    "# Exibindo as primeiras linhas\n",
    "df.head()"
   ]
  },
  {
   "cell_type": "code",
   "execution_count": 18,
   "metadata": {},
   "outputs": [],
   "source": [
    "#salvando df para CSV\n",
    "df.to_csv('preco_petroleo_brent.csv', index=False)  # Define index=False para não salvar o índice do DataFrame\n"
   ]
  },
  {
   "cell_type": "code",
   "execution_count": 19,
   "metadata": {},
   "outputs": [],
   "source": [
    "dados = pd.read_csv('C:/Users/gabrielbrito/FIAP/Curso/FIAP/TechChallenge/Fase 03/preco_petroleo_brent.csv')"
   ]
  },
  {
   "cell_type": "code",
   "execution_count": 20,
   "metadata": {},
   "outputs": [
    {
     "data": {
      "text/html": [
       "<div>\n",
       "<style scoped>\n",
       "    .dataframe tbody tr th:only-of-type {\n",
       "        vertical-align: middle;\n",
       "    }\n",
       "\n",
       "    .dataframe tbody tr th {\n",
       "        vertical-align: top;\n",
       "    }\n",
       "\n",
       "    .dataframe thead th {\n",
       "        text-align: right;\n",
       "    }\n",
       "</style>\n",
       "<table border=\"1\" class=\"dataframe\">\n",
       "  <thead>\n",
       "    <tr style=\"text-align: right;\">\n",
       "      <th></th>\n",
       "      <th>Data</th>\n",
       "      <th>Preço - petróleo bruto - Brent (FOB)</th>\n",
       "    </tr>\n",
       "  </thead>\n",
       "  <tbody>\n",
       "    <tr>\n",
       "      <th>0</th>\n",
       "      <td>04/11/2024</td>\n",
       "      <td>7489</td>\n",
       "    </tr>\n",
       "    <tr>\n",
       "      <th>1</th>\n",
       "      <td>01/11/2024</td>\n",
       "      <td>7363</td>\n",
       "    </tr>\n",
       "    <tr>\n",
       "      <th>2</th>\n",
       "      <td>31/10/2024</td>\n",
       "      <td>7325</td>\n",
       "    </tr>\n",
       "    <tr>\n",
       "      <th>3</th>\n",
       "      <td>30/10/2024</td>\n",
       "      <td>7321</td>\n",
       "    </tr>\n",
       "    <tr>\n",
       "      <th>4</th>\n",
       "      <td>29/10/2024</td>\n",
       "      <td>7109</td>\n",
       "    </tr>\n",
       "    <tr>\n",
       "      <th>...</th>\n",
       "      <td>...</td>\n",
       "      <td>...</td>\n",
       "    </tr>\n",
       "    <tr>\n",
       "      <th>11287</th>\n",
       "      <td>26/05/1987</td>\n",
       "      <td>1863</td>\n",
       "    </tr>\n",
       "    <tr>\n",
       "      <th>11288</th>\n",
       "      <td>25/05/1987</td>\n",
       "      <td>1860</td>\n",
       "    </tr>\n",
       "    <tr>\n",
       "      <th>11289</th>\n",
       "      <td>22/05/1987</td>\n",
       "      <td>1855</td>\n",
       "    </tr>\n",
       "    <tr>\n",
       "      <th>11290</th>\n",
       "      <td>21/05/1987</td>\n",
       "      <td>1845</td>\n",
       "    </tr>\n",
       "    <tr>\n",
       "      <th>11291</th>\n",
       "      <td>20/05/1987</td>\n",
       "      <td>1863</td>\n",
       "    </tr>\n",
       "  </tbody>\n",
       "</table>\n",
       "<p>11292 rows × 2 columns</p>\n",
       "</div>"
      ],
      "text/plain": [
       "             Data  Preço - petróleo bruto - Brent (FOB)\n",
       "0      04/11/2024                                  7489\n",
       "1      01/11/2024                                  7363\n",
       "2      31/10/2024                                  7325\n",
       "3      30/10/2024                                  7321\n",
       "4      29/10/2024                                  7109\n",
       "...           ...                                   ...\n",
       "11287  26/05/1987                                  1863\n",
       "11288  25/05/1987                                  1860\n",
       "11289  22/05/1987                                  1855\n",
       "11290  21/05/1987                                  1845\n",
       "11291  20/05/1987                                  1863\n",
       "\n",
       "[11292 rows x 2 columns]"
      ]
     },
     "execution_count": 20,
     "metadata": {},
     "output_type": "execute_result"
    }
   ],
   "source": [
    "dados"
   ]
  },
  {
   "cell_type": "code",
   "execution_count": null,
   "metadata": {},
   "outputs": [],
   "source": []
  }
 ],
 "metadata": {
  "kernelspec": {
   "display_name": "Python 3",
   "language": "python",
   "name": "python3"
  },
  "language_info": {
   "codemirror_mode": {
    "name": "ipython",
    "version": 3
   },
   "file_extension": ".py",
   "mimetype": "text/x-python",
   "name": "python",
   "nbconvert_exporter": "python",
   "pygments_lexer": "ipython3",
   "version": "3.11.4"
  }
 },
 "nbformat": 4,
 "nbformat_minor": 2
}
